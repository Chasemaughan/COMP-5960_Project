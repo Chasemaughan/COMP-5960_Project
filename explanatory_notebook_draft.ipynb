{
 "cells": [
  {
   "cell_type": "markdown",
   "metadata": {},
   "source": [
    "## **Explanatory Notebook**"
   ]
  },
  {
   "cell_type": "markdown",
   "metadata": {},
   "source": [
    "##### **Abstract**\n",
    "Here we will have introduction to our story, i.e. about how to market fishing areas in Utah to fishermen, best areas, what kind of fish, and best times to go. This will be centered around our stocking data "
   ]
  },
  {
   "cell_type": "markdown",
   "metadata": {},
   "source": [
    "#### Here will be some intro visualizations for what kind of fish are stocked, and average lengths by most common species"
   ]
  },
  {
   "cell_type": "markdown",
   "metadata": {},
   "source": [
    "#### Presentation of our most interactive vis, to show fish type and areas by county and by most popularly stocked areas per county"
   ]
  },
  {
   "cell_type": "markdown",
   "metadata": {},
   "source": [
    "#### Here will be heatmap to tell when to go during the year to get large amounts of fish, maybe for catch and release fisherman too?"
   ]
  }
 ],
 "metadata": {
  "kernelspec": {
   "display_name": "conda_clone",
   "language": "python",
   "name": "python3"
  },
  "language_info": {
   "name": "python",
   "version": "3.12.7"
  }
 },
 "nbformat": 4,
 "nbformat_minor": 2
}
